{
  "nbformat": 4,
  "nbformat_minor": 0,
  "metadata": {
    "colab": {
      "provenance": []
    },
    "kernelspec": {
      "name": "python3",
      "display_name": "Python 3"
    },
    "language_info": {
      "name": "python"
    }
  },
  "cells": [
    {
      "cell_type": "markdown",
      "source": [
        "# **Question: 1**\n",
        "\n",
        "Suppose we want to test whether the mean weight of apples in a grocery store is 150 grams. We randomly sample 20 apples from the store and measure their weights, getting the following data:\n",
        "\n",
        "**Apple_weights = [145, 155, 160, 146, 142, 152, 150, 147, 148, 149, 148, 152, 153, 155, 154, 148, 151, 147, 153, 146]**\n",
        "\n",
        "What test should we use and why?\n",
        "\n",
        "This case we just got population mean, sample of data and at the same time our data size is less than 30. So we can use **one sample t-test**. \n",
        "\n",
        "State the null and alternative hypotheses.\n",
        "\n",
        "**We can say that our null hypothesis is 150**\n",
        "\n",
        "**And Alternative hypothesis is not 150.**\n",
        "\n",
        "\n",
        "Choose a significance level (α) (the probability of rejecting the null hypothesis when it is actually true).\n",
        "\n",
        "We choose a significance level of α = 0.05 which means will accept 5% of chance an error. \n",
        "\n",
        "Determine the degrees of freedom (df) of the sample.\n",
        "\n",
        "**df = n -1 (n = sample size)**\n",
        "\n",
        "**df = 20 -1 = 19**\n",
        "\n",
        "Determine the critical value of t based on the significance level and degrees of freedom. For a two-tailed test with α = 0.05 and df = 19, the critical values are -2.093 and 2.093.\n",
        "\n",
        "Compare and interpret the results of the test to the critical value \n"
      ],
      "metadata": {
        "id": "Zt2nDYn0X_mN"
      }
    },
    {
      "cell_type": "code",
      "source": [
        "import numpy as np\n",
        "import scipy.stats as stats"
      ],
      "metadata": {
        "id": "YBWnG9fKY5OC"
      },
      "execution_count": 1,
      "outputs": []
    },
    {
      "cell_type": "code",
      "execution_count": 2,
      "metadata": {
        "colab": {
          "base_uri": "https://localhost:8080/"
        },
        "id": "v5dqUC-lX3AI",
        "outputId": "bad9dc21-babc-445a-b0e6-277bd9da173e"
      },
      "outputs": [
        {
          "output_type": "stream",
          "name": "stdout",
          "text": [
            "Accept Null Hypothesis (accept H0)\n"
          ]
        }
      ],
      "source": [
        "α = 0.05\n",
        "df = 19\n",
        "Apple_weights = [145, 155, 160, 146, 142, 152, 150, 147, 148, 149, 148, 152, 153, 155, 154, 148, 151, 147, 153, 146]\n",
        "samp_weight = np.array(Apple_weights)\n",
        "apple_mean = 150\n",
        "samp_mean = samp_weight.mean()\n",
        "samp_std = round(samp_weight.std(), 4)\n",
        "\n",
        "t_val = round((samp_mean - apple_mean)/(samp_std/np.sqrt(20)),4)\n",
        "lower_critical_val = stats.t.ppf(α/2, df)\n",
        "upper_critical_val = stats.t.ppf(1-α/2, df)\n",
        "\n",
        "if lower_critical_val<t_val<upper_critical_val:\n",
        "  print('Accept Null Hypothesis (accept H0)')\n",
        "else:\n",
        "  print('Reject null Hypothesis (reject H0)')\n"
      ]
    },
    {
      "cell_type": "markdown",
      "source": [
        "# **Question: 2**\n",
        "\n",
        "Suppose we want to test whether the mean height of all men in a population is 180 cm assuming that the population standard deviation = 2. We randomly sample 50 men from the population and measure their heights, getting the following data:\n",
        "\n",
        "\n",
        "Men_height = [177, 180, 182, 179, 178, 181, 176, 183, 179, 180, 178, 181, 177, 178, 180, 179, 182, 180, 183, 181, 179, 177, 180, 181, 178, 180, 182, 179, 177, 182, 178, 181, 183, 179, 180, 181, 183, 178, 177, 181, 179, 182, 180, 181, 178, 180, 179, 181, 183, 179]\n",
        "\n",
        "\n",
        "What test should we use and why?\n",
        "\n",
        "**We know the population standard daviation population mean and population sample size is > 30. so we can do Two tailed z test.**\n",
        "\n",
        "State the null and alternative hypotheses.\n",
        "\n",
        "**We can say that our null hypothesis is 180**\n",
        "\n",
        "**And Alternative hypothesis is greater than 180.**\n",
        "\n",
        "Choose a significance level (α) (the probability of rejecting the null hypothesis when it is actually true).\n",
        "\n",
        "Here α is not predefine so we can think α = 0.05. \n",
        "\n",
        "Determine the degrees of freedom (df) of the sample.\n",
        "\n",
        "** In this question, for t-test we need Df which is df = N-1, df = 50-1=49**\n",
        "\n",
        "Determine the critical value of t based on the significance level and degrees of freedom. For a two-tailed test with α = 0.05 and df = 19, the critical values are -2.093 and 2.093.\n",
        "\n",
        "Compare and interpret the results of the test to the critical value\n"
      ],
      "metadata": {
        "id": "nRJM4_lhn1mW"
      }
    },
    {
      "cell_type": "code",
      "source": [
        "pop_mean = 180\n",
        "pop_std = 2\n",
        "Men_height = [177, 180, 182, 179, 178, 181, 176, 183, 179, 180, 178, 181, 177, 178, 180, 179, 182, 180, 183, 181, 179, 177, 180, 181, 178, 180, 182, 179, 177, 182, 178, 181, 183, 179, 180, 181, 183, 178, 177, 181, 179, 182, 180, 181, 178, 180, 179, 181, 183, 179]\n",
        "samp_height = np.array(Men_height)\n",
        "sample_mean = round(samp_height.mean(), 4)\n",
        "sample_std = round(samp_height.std(), 4)\n",
        "df = 49\n",
        "#t-test:\n",
        "lower_critical_val = stats.t.ppf(α/2, df)\n",
        "upper_critical_val = stats.t.ppf(1-α/2, df)\n",
        "T_val = round((sample_mean - pop_mean)/(sample_std/np.sqrt(50)),4)\n",
        "\n",
        "#perform one sample t-test using stats library:\n",
        "t_statistics, p_value = stats.ttest_1samp(Men_height, pop_mean)\n",
        "\n",
        "print('t-value = %f , p value = %f' % (t_statistics, p_value))\n",
        "if lower_critical_val<T_val<upper_critical_val:\n",
        "  print('Accept Null Hypothesis (accept H0)')\n",
        "else:\n",
        "  print('Reject null Hypothesis (reject H0)')\n",
        "\n"
      ],
      "metadata": {
        "colab": {
          "base_uri": "https://localhost:8080/"
        },
        "id": "qA5-hT3RXUpm",
        "outputId": "d31be33f-f6cb-49d2-8111-fc45227c458a"
      },
      "execution_count": 10,
      "outputs": [
        {
          "output_type": "stream",
          "name": "stdout",
          "text": [
            "t-value = -0.606123 , p value = 0.547231\n",
            "Accept Null Hypothesis (accept H0)\n"
          ]
        }
      ]
    },
    {
      "cell_type": "markdown",
      "source": [
        "#**Question: 3**\n",
        "\n",
        "Suppose we want to test whether the mean weight of a population of cats is different from 4 kg. We randomly sample 50 cats from the population and measure their weights, getting the following data:\n",
        "\n",
        "Cats_weights = [3.9, 4.2, 4.5, 4.1, 4.3, 3.8, 4.6, 4.2, 3.7, 4.3, 3.9, 4.0, 4.1, 4.5, 4.2, 3.8, 3.9, 4.3, 4.1, 4.0, 4.4, 4.2, 4.1, 4.6, 4.4, 4.2, 4.1, 4.3, 4.0, 4.4, 4.3, 3.8, 4.1, 4.5, 4.2, 4.3, 4.0, 4.1, 4.2, 3.9, 4.3, 3.7, 4.1, 4.5, 4.2, 4.0, 4.2, 4.4, 4.1, 4.5]\n",
        "\n",
        "Perform one sample two tailed Z-Test to determine whether the mean weight of the sampled cats is significantly different from 4 kg.\n",
        "\n",
        "State the null and alternative hypotheses.\n",
        "\n",
        "Choose a significance level (α) (the probability of rejecting the null hypothesis when it is actually true).\n",
        "\n",
        "Calculate the z-score using the formula:\n",
        "\n",
        "\n",
        "![Screenshot 2023-04-07 at 12.11.29 AM.png](data:image/png;base64,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)\n",
        "\n",
        "Assuming that the standard deviation is equal to the sample mean.\n",
        "\n",
        "Look up the critical z-value at the chosen significance level (α) using a z-table.\n",
        "\n",
        "Compare the calculated z-score to the critical z-values. If the calculated z-score falls outside the range between the critical z-values, we reject the null hypothesis in favor of the alternative hypothesis.\n",
        "\n"
      ],
      "metadata": {
        "id": "N8VRjarXndCw"
      }
    },
    {
      "cell_type": "code",
      "source": [
        "Cats_weights = [3.9, 4.2, 4.5, 4.1, 4.3, 3.8, 4.6, 4.2, 3.7, 4.3, 3.9, 4.0, 4.1, 4.5, 4.2, 3.8, 3.9, 4.3, 4.1, 4.0, 4.4, 4.2, 4.1, 4.6, 4.4, 4.2, 4.1, 4.3, 4.0, 4.4, 4.3, 3.8, 4.1, 4.5, 4.2, 4.3, 4.0, 4.1, 4.2, 3.9, 4.3, 3.7, 4.1, 4.5, 4.2, 4.0, 4.2, 4.4, 4.1, 4.5]\n",
        "samp_cat_weight = np.array(Cats_weights)\n",
        "pop_mean = 4\n",
        "n = 50\n",
        "samp1_mean = samp_cat_weight.mean()\n",
        "samp1_std = samp_cat_weight.std()\n",
        "\n",
        "#one sample two tailed Z-Test \n",
        "z_val = round((samp1_mean - pop_mean)/(samp1_std/np.sqrt(50)),4)\n",
        "\n",
        "#Z score (1-(α/2)) = (1-0.025)= 0.975 , z score is 1.96\n",
        "\n",
        "Z_score = 1.96\n",
        "\n",
        "if z_val > Z_score:\n",
        "  print('Fail to accept H0, accept alternative hypothesis')\n",
        "else:\n",
        "  print('Fail to accept H1, accept null hypothesis')\n",
        "\n"
      ],
      "metadata": {
        "colab": {
          "base_uri": "https://localhost:8080/"
        },
        "id": "brWfozSmoezz",
        "outputId": "54b9e92b-3ba7-4cef-db41-dbbebc30cca4"
      },
      "execution_count": 20,
      "outputs": [
        {
          "output_type": "stream",
          "name": "stdout",
          "text": [
            "Fail to accept H0, accept alternative hypothesis\n"
          ]
        }
      ]
    }
  ]
}