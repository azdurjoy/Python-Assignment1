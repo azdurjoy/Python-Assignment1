{
  "nbformat": 4,
  "nbformat_minor": 0,
  "metadata": {
    "colab": {
      "provenance": []
    },
    "kernelspec": {
      "name": "python3",
      "display_name": "Python 3"
    },
    "language_info": {
      "name": "python"
    }
  },
  "cells": [
    {
      "cell_type": "code",
      "source": [
        "import pandas as pd\n",
        "import numpy as np\n",
        "import matplotlib.pyplot as plt\n",
        "\n",
        "df = pd.read_csv('/content/Group3.csv', sep=';')\n",
        "\n",
        "x = np.array(df['S1'])\n",
        "y = np.array(df['S2'])\n",
        "z = np.array(df['S3'])\n",
        "\n",
        "#cov_mat = np.cov([x,y,z])\n",
        "\n",
        "#cov_mat\n",
        "\n",
        "#Compute the covariance between three variables\n",
        "\n",
        "\n",
        "cov_S1S2 = df.cov().loc['S1','S2']\n",
        "cov_S1S3 = df.cov().loc['S1','S3']\n",
        "cov_S2S3 = df.cov().loc['S2','S3']\n",
        "\n",
        "print('Covariance between S1S2, S1S3 & S2S3:', round(cov_S1S2,2), round(cov_S1S3,2),'&', round(cov_S2S3,2))\n",
        "\n"
      ],
      "metadata": {
        "colab": {
          "base_uri": "https://localhost:8080/"
        },
        "id": "8brzoVGMzzQ8",
        "outputId": "d5e760c9-2e2e-4aaa-aade-2a58fb2c3e3f"
      },
      "execution_count": 5,
      "outputs": [
        {
          "output_type": "stream",
          "name": "stdout",
          "text": [
            "Covariance between S1S2, S1S3 & S2S3: 10.96 5.24 & 89.26\n"
          ]
        }
      ]
    },
    {
      "cell_type": "code",
      "source": [
        "#Compute the correlation coefficients between three variables\n",
        "#Plot and report the relationships between the variables\n",
        "\n",
        "x = np.array(df['S1'])\n",
        "y = np.array(df['S2'])\n",
        "z = np.array(df['S3'])\n",
        "\n",
        "#corrcoef between S1 & S2 values\n",
        "\n",
        "print(np.corrcoef([x,y]))\n",
        "plt.scatter(x,y, marker='*', label ='S1S2')\n",
        "plt.xlabel('S1')\n",
        "plt.ylabel('S2')\n",
        "\n",
        "plt.legend()\n",
        "plt.show()"
      ],
      "metadata": {
        "colab": {
          "base_uri": "https://localhost:8080/",
          "height": 315
        },
        "id": "QGiaf0Kb912z",
        "outputId": "2f0e5e21-e00c-447b-ae54-a8add78b7195"
      },
      "execution_count": 6,
      "outputs": [
        {
          "output_type": "stream",
          "name": "stdout",
          "text": [
            "[[1.        0.1165616]\n",
            " [0.1165616 1.       ]]\n"
          ]
        },
        {
          "output_type": "display_data",
          "data": {
            "text/plain": [
              "<Figure size 432x288 with 1 Axes>"
            ],
            "image/png": "[encoded data removed]"
          },
          "metadata": {
            "needs_background": "light"
          }
        }
      ]
    },
    {
      "cell_type": "code",
      "source": [
        "#corrcoef between S1 & S3 values\n",
        "\n",
        "print(np.corrcoef([x,z]))\n",
        "plt.scatter(x,y, marker='.', label ='S1S3')\n",
        "plt.xlabel('S1')\n",
        "plt.ylabel('S3')\n",
        "\n",
        "plt.legend()\n",
        "plt.show()\n",
        "\n",
        "\n"
      ],
      "metadata": {
        "colab": {
          "base_uri": "https://localhost:8080/",
          "height": 315
        },
        "id": "A321vHZ_-PXU",
        "outputId": "8350893e-d3ab-461e-fa5b-be2e0aae69fe"
      },
      "execution_count": 7,
      "outputs": [
        {
          "output_type": "stream",
          "name": "stdout",
          "text": [
            "[[1.         0.02004522]\n",
            " [0.02004522 1.        ]]\n"
          ]
        },
        {
          "output_type": "display_data",
          "data": {
            "text/plain": [
              "<Figure size 432x288 with 1 Axes>"
            ],
            "image/png": "[encoded data removed]"
          },
          "metadata": {
            "needs_background": "light"
          }
        }
      ]
    },
    {
      "cell_type": "code",
      "source": [
        "#corrcoef between S2 & S3 values\n",
        "\n",
        "print(np.corrcoef([y,z]))\n",
        "plt.scatter(x,y, marker='*', label ='S2S3')\n",
        "plt.xlabel('S2')\n",
        "plt.ylabel('S3')\n",
        "\n",
        "plt.legend()\n",
        "plt.show()\n"
      ],
      "metadata": {
        "colab": {
          "base_uri": "https://localhost:8080/",
          "height": 315
        },
        "id": "5gXGhTw5CpRS",
        "outputId": "97723ce1-0a1f-4a73-bcda-77357db1d502"
      },
      "execution_count": 8,
      "outputs": [
        {
          "output_type": "stream",
          "name": "stdout",
          "text": [
            "[[1.         0.38140399]\n",
            " [0.38140399 1.        ]]\n"
          ]
        },
        {
          "output_type": "display_data",
          "data": {
            "text/plain": [
              "<Figure size 432x288 with 1 Axes>"
            ],
            "image/png": "[encoded data removed]"
          },
          "metadata": {
            "needs_background": "light"
          }
        }
      ]
    },
    {
      "cell_type": "code",
      "source": [
        "##correlation coefficient relationship between the all variables\n",
        "\n",
        "import seaborn as sns\n",
        "cor_mat = df.corr()\n",
        "sns.heatmap(cor_mat);"
      ],
      "metadata": {
        "colab": {
          "base_uri": "https://localhost:8080/",
          "height": 269
        },
        "id": "ZsqnkujlDzXw",
        "outputId": "843fcd38-cde5-49b7-fb3c-01f926bdc7ef"
      },
      "execution_count": 9,
      "outputs": [
        {
          "output_type": "display_data",
          "data": {
            "text/plain": [
              "<Figure size 432x288 with 2 Axes>"
            ],
            "image/png": "[encoded data removed]"
          },
          "metadata": {
            "needs_background": "light"
          }
        }
      ]
    },
    {
      "cell_type": "code",
      "source": [
        "#Generate a random sample of 50 observations for each sensor\n",
        "samp_s1 = np.random.choice(df['S1'], size = 50) \n",
        "samp_s1"
      ],
      "metadata": {
        "colab": {
          "base_uri": "https://localhost:8080/"
        },
        "id": "XuSbkgc0G0dv",
        "outputId": "ec698a37-2308-4c9e-aef1-2f327a38122c"
      },
      "execution_count": 10,
      "outputs": [
        {
          "output_type": "execute_result",
          "data": {
            "text/plain": [
              "array([438, 449, 440, 432, 449, 425, 438, 424, 409, 432, 442, 444, 433,\n",
              "       438, 432, 447, 445, 454, 456, 445, 445, 442, 425, 432, 436, 425,\n",
              "       439, 429, 439, 444, 432, 466, 438, 438, 428, 429, 445, 424, 446,\n",
              "       423, 432, 438, 456, 441, 429, 466, 428, 433, 434, 439])"
            ]
          },
          "metadata": {},
          "execution_count": 10
        }
      ]
    },
    {
      "cell_type": "code",
      "source": [
        "#Generate a random sample of 50 observations for each sensor\n",
        "samp_s2 = np.random.choice(df['S2'], size = 50) \n",
        "samp_s2"
      ],
      "metadata": {
        "colab": {
          "base_uri": "https://localhost:8080/"
        },
        "id": "Lc3W2B_FN4yg",
        "outputId": "ac947183-422e-41b0-bf70-159637669f8a"
      },
      "execution_count": 11,
      "outputs": [
        {
          "output_type": "execute_result",
          "data": {
            "text/plain": [
              "array([354, 356, 362, 370, 370, 355, 365, 367, 362, 374, 360, 359, 339,\n",
              "       355, 340, 356, 357, 345, 365, 365, 368, 361, 370, 354, 367, 363,\n",
              "       356, 363, 361, 347, 365, 369, 352, 362, 361, 361, 352, 357, 366,\n",
              "       359, 369, 349, 356, 343, 359, 315, 358, 359, 361, 370])"
            ]
          },
          "metadata": {},
          "execution_count": 11
        }
      ]
    },
    {
      "cell_type": "code",
      "source": [
        "#Generate a random sample of 50 observations for each sensor\n",
        "samp_s3 = np.random.choice(df['S3'], size = 50) \n",
        "samp_s3"
      ],
      "metadata": {
        "colab": {
          "base_uri": "https://localhost:8080/"
        },
        "id": "pdZIzmvRN73G",
        "outputId": "08035001-8ced-4be4-efa5-4055af0fd5a6"
      },
      "execution_count": 12,
      "outputs": [
        {
          "output_type": "execute_result",
          "data": {
            "text/plain": [
              "array([385, 359, 392, 376, 387, 339, 391, 393, 354, 396, 329, 318, 345,\n",
              "       289, 326, 385, 360, 385, 356, 289, 393, 382, 385, 329, 391, 290,\n",
              "       380, 369, 376, 394, 327, 355, 330, 384, 327, 327, 289, 379, 376,\n",
              "       366, 329, 383, 318, 366, 396, 379, 373, 374, 312, 379])"
            ]
          },
          "metadata": {},
          "execution_count": 12
        }
      ]
    },
    {
      "cell_type": "code",
      "source": [
        "#Compute the upper and the lower bounds with confidence intervals 90%, 95%, 99%.\n",
        "print(np.mean(samp_s1))\n",
        "print(np.mean(samp_s2))\n",
        "print(np.mean(samp_s3))\n"
      ],
      "metadata": {
        "colab": {
          "base_uri": "https://localhost:8080/"
        },
        "id": "hMh5OyqaOSCY",
        "outputId": "a21a4505-939e-447e-bab2-a5d774c7fc16"
      },
      "execution_count": 13,
      "outputs": [
        {
          "output_type": "stream",
          "name": "stdout",
          "text": [
            "437.86\n",
            "358.58\n",
            "358.24\n"
          ]
        }
      ]
    },
    {
      "cell_type": "code",
      "source": [
        "#Compute the upper and the lower bounds with confidence intervals 90%\n",
        "import scipy.stats as st\n",
        "\n",
        "z_90 = 1.64\n",
        "\n",
        "s1_samp_mean = np.mean(samp_s1)\n",
        "std = np.std(samp_s1)\n",
        "std_error = std / np.sqrt(len(samp_s1))\n",
        "\n",
        "lower_bound_s1 = s1_samp_mean - z_90 * std_error\n",
        "upper_bound_s1 = s1_samp_mean + z_90 * std_error\n",
        "\n",
        "print('confidence intervals 90% upper bound and lower bound is :',round(lower_bound_s1,2),'&', round(upper_bound_s1,2))"
      ],
      "metadata": {
        "colab": {
          "base_uri": "https://localhost:8080/"
        },
        "id": "hcySJKOtYqli",
        "outputId": "f006f3c8-e744-4b87-d80a-9326942a3568"
      },
      "execution_count": 30,
      "outputs": [
        {
          "output_type": "stream",
          "name": "stdout",
          "text": [
            "confidence intervals 90% upper bound and lower bound is : 435.35 & 440.37\n"
          ]
        }
      ]
    },
    {
      "cell_type": "code",
      "source": [
        "#Compute the upper and the lower bounds with confidence intervals 95%\n",
        "z_95 = 1.96\n",
        "s2_samp_mean = np.mean(samp_s2)\n",
        "std = np.std(samp_s2)\n",
        "std_error = std / np.sqrt(len(samp_s2))\n",
        "\n",
        "lower_bound_s2 = s2_samp_mean - z_95 * std_error\n",
        "upper_bound_s2 = s2_samp_mean + z_95 * std_error\n",
        "\n",
        "print('confidence intervals 95% upper bound and lower bound is :',round(lower_bound_s2,2),'&', round(upper_bound_s2,2))\n"
      ],
      "metadata": {
        "colab": {
          "base_uri": "https://localhost:8080/"
        },
        "id": "kt31An2s5u2V",
        "outputId": "518f10e0-21ea-4fd6-a01f-6e9fbe701771"
      },
      "execution_count": 31,
      "outputs": [
        {
          "output_type": "stream",
          "name": "stdout",
          "text": [
            "confidence intervals 95% upper bound and lower bound is : 355.81 & 361.35\n"
          ]
        }
      ]
    },
    {
      "cell_type": "code",
      "source": [
        "#Compute the upper and the lower bounds with confidence intervals 99%\n",
        "z_99 = 2.57\n",
        " \n",
        "s3_samp_mean = np.mean(samp_s3)\n",
        "std = np.std(samp_s3)\n",
        "std_error = std / np.sqrt(len(samp_s3))\n",
        "\n",
        "lower_bound_s3 = s3_samp_mean - z_99 * std_error\n",
        "upper_bound_s3 = s3_samp_mean + z_99 * std_error\n",
        "\n",
        "print('confidence intervals 99% upper bound and lower bound is :',round(lower_bound_s3,2),'&', round(upper_bound_s3,2))"
      ],
      "metadata": {
        "colab": {
          "base_uri": "https://localhost:8080/"
        },
        "id": "nNp20MIKAoUY",
        "outputId": "2d24d8a0-d563-4b75-9cb5-55f2dfe2f6ee"
      },
      "execution_count": 32,
      "outputs": [
        {
          "output_type": "stream",
          "name": "stdout",
          "text": [
            "confidence intervals 99% upper bound and lower bound is : 346.62 & 369.86\n"
          ]
        }
      ]
    },
    {
      "cell_type": "code",
      "source": [
        "#Compare the population means of each sample with the estimated one given the samples\n",
        "import matplotlib.pyplot as plt\n",
        "\n",
        "s1_mean = round(df['S1'].mean(),2)\n",
        "s1_mean = round(df['S1'].mean(),2)\n",
        "print('S1 Mean: ', s1_mean)\n",
        "print('S1 Sample Mean: ',s1_samp_mean)\n",
        "\n",
        "\n",
        "\n",
        "\n",
        "#plt.boxplot([s1_mean, s1_samp_mean])\n",
        "#plt.ylim(430, 440)\n",
        "#plt.show()\n"
      ],
      "metadata": {
        "colab": {
          "base_uri": "https://localhost:8080/"
        },
        "id": "7GuYoWIrCRzZ",
        "outputId": "f5a9e34c-0496-420b-9047-ec5a0037b212"
      },
      "execution_count": 42,
      "outputs": [
        {
          "output_type": "stream",
          "name": "stdout",
          "text": [
            "S1 Mean:  435.03\n",
            "S1 Sample Mean:  437.86\n"
          ]
        }
      ]
    },
    {
      "cell_type": "code",
      "source": [
        "import matplotlib.pyplot as plt\n",
        "s2_mean = round(df['S2'].mean(),2)\n",
        "print('S2 Mean: ', s2_mean)\n",
        "print('S2 Sample Mean: ',s2_samp_mean)\n",
        "\n",
        "\n",
        "\n",
        "\n",
        "#plt.boxplot([s2_mean, s2_samp_mean])\n",
        "#plt.ylim(350, 365)\n",
        "#plt.show() \n"
      ],
      "metadata": {
        "colab": {
          "base_uri": "https://localhost:8080/"
        },
        "id": "VI2O5YkOOE-l",
        "outputId": "3b3d8ff8-b166-49c0-8c8d-f5b3c1cfedfb"
      },
      "execution_count": 44,
      "outputs": [
        {
          "output_type": "stream",
          "name": "stdout",
          "text": [
            "S2 Mean:  360.22\n",
            "S2 Sample Mean:  358.58\n"
          ]
        }
      ]
    },
    {
      "cell_type": "code",
      "source": [
        "import matplotlib.pyplot as plt\n",
        "s3_mean = round(df['S3'].mean(),2)\n",
        "print('S3 Mean: ', s3_mean)\n",
        "print('S3 Sample Mean: ',s3_samp_mean)\n",
        "\n",
        "\n",
        "\n",
        "\n",
        "#plt.boxplot([s3_mean, s3_samp_mean])\n",
        "#plt.ylim(350, 370)\n",
        "#plt.show() \n"
      ],
      "metadata": {
        "colab": {
          "base_uri": "https://localhost:8080/"
        },
        "id": "WPA4jg-7TYey",
        "outputId": "0d206241-63dc-4f09-efa2-6007336ae12a"
      },
      "execution_count": 43,
      "outputs": [
        {
          "output_type": "stream",
          "name": "stdout",
          "text": [
            "S3 Mean:  366.93\n",
            "S3 Sample Mean:  358.24\n"
          ]
        }
      ]
    },
    {
      "cell_type": "code",
      "source": [
        "import matplotlib.pyplot as plt\n",
        "x = [1, 2]\n",
        "y = [s1_samp_mean, s1_mean]\n",
        "yerr = [[s1_samp_mean - lower_bound_s1], [upper_bound_s1 - s1_samp_mean]]\n",
        "plt.errorbar(x, y, yerr=yerr)\n",
        "plt.plot(x, y, 'o', color='red')\n",
        "plt.plot(x, [s1_mean]*len(x), 'o', color='blue')"
      ],
      "metadata": {
        "colab": {
          "base_uri": "https://localhost:8080/",
          "height": 283
        },
        "id": "31cNdPHNoRBd",
        "outputId": "9cab6a96-75bc-4417-bd80-9401f10e136d"
      },
      "execution_count": 37,
      "outputs": [
        {
          "output_type": "execute_result",
          "data": {
            "text/plain": [
              "[<matplotlib.lines.Line2D at 0x7f9dc9b014f0>]"
            ]
          },
          "metadata": {},
          "execution_count": 37
        },
        {
          "output_type": "display_data",
          "data": {
            "text/plain": [
              "<Figure size 432x288 with 1 Axes>"
            ],
            "image/png": "[encoded data removed]"
          },
          "metadata": {
            "needs_background": "light"
          }
        }
      ]
    },
    {
      "cell_type": "code",
      "source": [
        "import matplotlib.pyplot as plt\n",
        "x = [1, 2]\n",
        "y = [s2_samp_mean, s2_mean]\n",
        "yerr = [[s2_samp_mean - lower_bound_s2], [upper_bound_s2 - s2_samp_mean]]\n",
        "plt.errorbar(x, y, yerr=yerr)\n",
        "plt.plot(x, y, 'o', color='red')\n",
        "plt.plot(x, [s2_mean]*len(x), 'o', color='blue')"
      ],
      "metadata": {
        "colab": {
          "base_uri": "https://localhost:8080/",
          "height": 283
        },
        "id": "J4bU8EYVou2R",
        "outputId": "03948510-cebb-4cfa-bdb7-9936af34eb6b"
      },
      "execution_count": 38,
      "outputs": [
        {
          "output_type": "execute_result",
          "data": {
            "text/plain": [
              "[<matplotlib.lines.Line2D at 0x7f9dc9a91400>]"
            ]
          },
          "metadata": {},
          "execution_count": 38
        },
        {
          "output_type": "display_data",
          "data": {
            "text/plain": [
              "<Figure size 432x288 with 1 Axes>"
            ],
            "image/png": "[encoded data removed]"
          },
          "metadata": {
            "needs_background": "light"
          }
        }
      ]
    },
    {
      "cell_type": "code",
      "source": [
        "import matplotlib.pyplot as plt\n",
        "print()\n",
        "x = [1, 2]\n",
        "y = [s3_samp_mean, s3_mean]\n",
        "yerr = [[s3_samp_mean - lower_bound_s3], [upper_bound_s3 - s3_samp_mean]]\n",
        "plt.errorbar(x, y, yerr=yerr)\n",
        "plt.plot(x, y, 'o', color='red')\n",
        "plt.plot(x, [s1_mean]*len(x), 'o', color='blue')"
      ],
      "metadata": {
        "colab": {
          "base_uri": "https://localhost:8080/",
          "height": 301
        },
        "id": "AhAIlYO6o5aD",
        "outputId": "4b69631b-e8c5-42d7-d004-eb065a7b9cf9"
      },
      "execution_count": 41,
      "outputs": [
        {
          "output_type": "stream",
          "name": "stdout",
          "text": [
            "\n"
          ]
        },
        {
          "output_type": "execute_result",
          "data": {
            "text/plain": [
              "[<matplotlib.lines.Line2D at 0x7f9dc99082e0>]"
            ]
          },
          "metadata": {},
          "execution_count": 41
        },
        {
          "output_type": "display_data",
          "data": {
            "text/plain": [
              "<Figure size 432x288 with 1 Axes>"
            ],
            "image/png": "[encoded data removed]"
          },
          "metadata": {
            "needs_background": "light"
          }
        }
      ]
    }
  ]
}