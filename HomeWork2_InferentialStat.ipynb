{
  "nbformat": 4,
  "nbformat_minor": 0,
  "metadata": {
    "colab": {
      "provenance": []
    },
    "kernelspec": {
      "name": "python3",
      "display_name": "Python 3"
    },
    "language_info": {
      "name": "python"
    }
  },
  "cells": [
    {
      "cell_type": "code",
      "source": [
        "import pandas as pd\n",
        "import numpy as np\n",
        "import matplotlib.pyplot as plt\n",
        "\n",
        "df = pd.read_csv('/Group3.csv', sep=';')\n",
        "\n",
        "x = np.array(df['S1'])\n",
        "y = np.array(df['S2'])\n",
        "z = np.array(df['S3'])\n",
        "\n",
        "#cov_mat = np.cov([x,y,z])\n",
        "\n",
        "#cov_mat\n",
        "\n",
        "#Compute the covariance between three variables\n",
        "\n",
        "\n",
        "cov_S1S2 = df.cov().loc['S1','S2']\n",
        "cov_S1S3 = df.cov().loc['S1','S3']\n",
        "cov_S2S3 = df.cov().loc['S2','S3']\n",
        "\n",
        "print('Covariance between S1S2, S1S3 & S2S3:', round(cov_S1S2,2), round(cov_S1S3,2),'&', round(cov_S2S3,2))\n",
        "\n"
      ],
      "metadata": {
        "colab": {
          "base_uri": "https://localhost:8080/"
        },
        "id": "8brzoVGMzzQ8",
        "outputId": "0a6e0a2a-c42d-498a-e678-532118ff400b"
      },
      "execution_count": 226,
      "outputs": [
        {
          "output_type": "stream",
          "name": "stdout",
          "text": [
            "Covariance between S1S2, S1S3 & S2S3: 10.96 5.24 & 89.26\n"
          ]
        }
      ]
    },
    {
      "cell_type": "code",
      "source": [
        "#Compute the correlation coefficients between three variables\n",
        "#Plot and report the relationships between the variables\n",
        "\n",
        "x = np.array(df['S1'])\n",
        "y = np.array(df['S2'])\n",
        "z = np.array(df['S3'])\n",
        "\n",
        "#corrcoef between S1 & S2 values\n",
        "\n",
        "print(np.corrcoef([x,y]))\n",
        "plt.scatter(x,y, marker='*', label ='S1S2')\n",
        "plt.xlabel('S1')\n",
        "plt.ylabel('S2')\n",
        "\n",
        "plt.legend()\n",
        "plt.show()"
      ],
      "metadata": {
        "colab": {
          "base_uri": "https://localhost:8080/",
          "height": 315
        },
        "id": "QGiaf0Kb912z",
        "outputId": "2999ec95-444e-4865-f4c4-584d98d3f899"
      },
      "execution_count": 60,
      "outputs": [
        {
          "output_type": "stream",
          "name": "stdout",
          "text": [
            "[[1.        0.1165616]\n",
            " [0.1165616 1.       ]]\n"
          ]
        },
        {
          "output_type": "display_data",
          "data": {
            "text/plain": [
              "<Figure size 432x288 with 1 Axes>"
            ],
            "image/png": "[encoded data removed]"
          },
          "metadata": {
            "needs_background": "light"
          }
        }
      ]
    },
    {
      "cell_type": "code",
      "source": [
        "#corrcoef between S1 & S3 values\n",
        "\n",
        "print(np.corrcoef([x,z]))\n",
        "plt.scatter(x,y, marker='.', label ='S1S3')\n",
        "plt.xlabel('S1')\n",
        "plt.ylabel('S3')\n",
        "\n",
        "plt.legend()\n",
        "plt.show()\n",
        "\n",
        "\n"
      ],
      "metadata": {
        "colab": {
          "base_uri": "https://localhost:8080/",
          "height": 315
        },
        "id": "A321vHZ_-PXU",
        "outputId": "37426b35-0e25-40cd-ffcf-4c9e2eaa412a"
      },
      "execution_count": 63,
      "outputs": [
        {
          "output_type": "stream",
          "name": "stdout",
          "text": [
            "[[1.         0.02004522]\n",
            " [0.02004522 1.        ]]\n"
          ]
        },
        {
          "output_type": "display_data",
          "data": {
            "text/plain": [
              "<Figure size 432x288 with 1 Axes>"
            ],
            "image/png": "[encoded data removed]"
          },
          "metadata": {
            "needs_background": "light"
          }
        }
      ]
    },
    {
      "cell_type": "code",
      "source": [
        "#corrcoef between S2 & S3 values\n",
        "\n",
        "print(np.corrcoef([y,z]))\n",
        "plt.scatter(x,y, marker='*', label ='S2S3')\n",
        "plt.xlabel('S2')\n",
        "plt.ylabel('S3')\n",
        "\n",
        "plt.legend()\n",
        "plt.show()\n"
      ],
      "metadata": {
        "colab": {
          "base_uri": "https://localhost:8080/",
          "height": 315
        },
        "id": "5gXGhTw5CpRS",
        "outputId": "afc26fcf-69ba-4885-fc85-5d0de9c54d12"
      },
      "execution_count": 66,
      "outputs": [
        {
          "output_type": "stream",
          "name": "stdout",
          "text": [
            "[[1.         0.38140399]\n",
            " [0.38140399 1.        ]]\n"
          ]
        },
        {
          "output_type": "display_data",
          "data": {
            "text/plain": [
              "<Figure size 432x288 with 1 Axes>"
            ],
            "image/png": "[encoded data removed]"
          },
          "metadata": {
            "needs_background": "light"
          }
        }
      ]
    },
    {
      "cell_type": "code",
      "source": [
        "##correlation coefficient relationship between the all variables\n",
        "\n",
        "import seaborn as sns\n",
        "cor_mat = df.corr()\n",
        "sns.heatmap(cor_mat);"
      ],
      "metadata": {
        "colab": {
          "base_uri": "https://localhost:8080/",
          "height": 269
        },
        "id": "ZsqnkujlDzXw",
        "outputId": "498366a9-c6af-4b14-de84-3df0c5f441cd"
      },
      "execution_count": 77,
      "outputs": [
        {
          "output_type": "display_data",
          "data": {
            "text/plain": [
              "<Figure size 432x288 with 2 Axes>"
            ],
            "image/png": "[encoded data removed]"
          },
          "metadata": {
            "needs_background": "light"
          }
        }
      ]
    },
    {
      "cell_type": "code",
      "source": [
        "#Generate a random sample of 50 observations for each sensor\n",
        "samp_s1 = np.random.choice(df['S1'], size = 50) \n",
        "samp_s1"
      ],
      "metadata": {
        "colab": {
          "base_uri": "https://localhost:8080/"
        },
        "id": "XuSbkgc0G0dv",
        "outputId": "495788c9-7b83-4d4c-d772-b99dd04514d4"
      },
      "execution_count": 94,
      "outputs": [
        {
          "output_type": "execute_result",
          "data": {
            "text/plain": [
              "array([428, 432, 439, 439, 420, 424, 429, 443, 445, 449, 428, 429, 433,\n",
              "       442, 420, 432, 430, 429, 428, 432, 450, 439, 424, 448, 433, 452,\n",
              "       412, 434, 438, 422, 411, 434, 419, 430, 420, 442, 434, 425, 430,\n",
              "       429, 437, 451, 433, 424, 439, 422, 445, 445, 427, 424])"
            ]
          },
          "metadata": {},
          "execution_count": 94
        }
      ]
    },
    {
      "cell_type": "code",
      "source": [
        "#Generate a random sample of 50 observations for each sensor\n",
        "samp_s2 = np.random.choice(df['S2'], size = 50) \n",
        "samp_s2"
      ],
      "metadata": {
        "colab": {
          "base_uri": "https://localhost:8080/"
        },
        "id": "Lc3W2B_FN4yg",
        "outputId": "84ca78a4-c8fe-4b94-d5f0-1b200fa247ad"
      },
      "execution_count": 101,
      "outputs": [
        {
          "output_type": "execute_result",
          "data": {
            "text/plain": [
              "array([363, 369, 350, 367, 372, 366, 378, 352, 360, 325, 367, 339, 364,\n",
              "       343, 363, 349, 351, 315, 368, 363, 360, 349, 380, 361, 367, 355,\n",
              "       370, 371, 364, 367, 353, 359, 365, 359, 352, 370, 352, 370, 370,\n",
              "       353, 360, 361, 365, 367, 368, 358, 362, 361, 355, 359])"
            ]
          },
          "metadata": {},
          "execution_count": 101
        }
      ]
    },
    {
      "cell_type": "code",
      "source": [
        "#Generate a random sample of 50 observations for each sensor\n",
        "samp_s3 = np.random.choice(df['S3'], size = 50) \n",
        "samp_s3"
      ],
      "metadata": {
        "colab": {
          "base_uri": "https://localhost:8080/"
        },
        "id": "pdZIzmvRN73G",
        "outputId": "945d4334-5430-44bc-8678-5123c68ac1bc"
      },
      "execution_count": 107,
      "outputs": [
        {
          "output_type": "execute_result",
          "data": {
            "text/plain": [
              "array([381, 355, 384, 386, 330, 379, 377, 361, 347, 314, 384, 393, 359,\n",
              "       339, 372, 329, 385, 349, 378, 389, 327, 378, 369, 400, 304, 372,\n",
              "       387, 376, 345, 376, 327, 370, 349, 379, 363, 346, 394, 387, 313,\n",
              "       376, 379, 380, 396, 391, 329, 355, 391, 384, 382, 384])"
            ]
          },
          "metadata": {},
          "execution_count": 107
        }
      ]
    },
    {
      "cell_type": "code",
      "source": [
        "#Compute the upper and the lower bounds with confidence intervals 90%, 95%, 99%.\n",
        "print(np.mean(samp_s1))\n",
        "print(np.mean(samp_s2))\n",
        "print(np.mean(samp_s3))\n"
      ],
      "metadata": {
        "colab": {
          "base_uri": "https://localhost:8080/"
        },
        "id": "hMh5OyqaOSCY",
        "outputId": "7e9902db-98b9-4385-f7bf-d8f9de3f68f7"
      },
      "execution_count": 109,
      "outputs": [
        {
          "output_type": "stream",
          "name": "stdout",
          "text": [
            "432.48\n",
            "359.74\n",
            "366.0\n"
          ]
        }
      ]
    },
    {
      "cell_type": "code",
      "source": [
        "#Compute the upper and the lower bounds with confidence intervals 90%\n",
        "import scipy.stats as st\n",
        "from scipy.stats import norm\n",
        "z_90 = norm.ppf(0.90)\n",
        "\n",
        "s1_samp_mean = np.mean(samp_s1)\n",
        "std = np.std(samp_s1)\n",
        "std_error = std / np.sqrt(len(samp_s1))\n",
        "\n",
        "lower_bound_s1 = s1_samp_mean - z_90 * std_error\n",
        "upper_bound_s1 = s1_samp_mean + z_90 * std_error\n",
        "\n",
        "print('confidence intervals 90% upper bound and lower bound is :',round(lower_bound_s1,2),'&', round(upper_bound_s1,2))"
      ],
      "metadata": {
        "colab": {
          "base_uri": "https://localhost:8080/"
        },
        "id": "hcySJKOtYqli",
        "outputId": "59f14f23-5b6c-44fa-afd2-63a8b26c3124"
      },
      "execution_count": 225,
      "outputs": [
        {
          "output_type": "stream",
          "name": "stdout",
          "text": [
            "confidence intervals 90% upper bound and lower bound is : 430.71 & 434.25\n"
          ]
        }
      ]
    },
    {
      "cell_type": "code",
      "source": [
        "#Compute the upper and the lower bounds with confidence intervals 95%\n",
        "from scipy.stats import norm\n",
        "z_95 = norm.ppf(0.975) \n",
        "s2_samp_mean = np.mean(samp_s2)\n",
        "std = np.std(samp_s2)\n",
        "std_error = std / np.sqrt(len(samp_s2))\n",
        "\n",
        "lower_bound_s2 = s2_samp_mean - z_95 * std_error\n",
        "upper_bound_s2 = s2_samp_mean + z_95 * std_error\n",
        "\n",
        "print('confidence intervals 95% upper bound and lower bound is :',round(lower_bound_s2,2),'&', round(upper_bound_s2,2))\n"
      ],
      "metadata": {
        "colab": {
          "base_uri": "https://localhost:8080/"
        },
        "id": "kt31An2s5u2V",
        "outputId": "8b44f081-53f0-44e6-e3b9-1b64eea00189"
      },
      "execution_count": 223,
      "outputs": [
        {
          "output_type": "stream",
          "name": "stdout",
          "text": [
            "confidence intervals 95% upper bound and lower bound is : 356.52 & 362.96\n"
          ]
        }
      ]
    },
    {
      "cell_type": "code",
      "source": [
        "#Compute the upper and the lower bounds with confidence intervals 99%\n",
        "from scipy.stats import norm\n",
        "z_99 = norm.ppf(0.995)\n",
        "z_95 = norm.ppf(0.975) \n",
        "s3_samp_mean = np.mean(samp_s3)\n",
        "std = np.std(samp_s3)\n",
        "std_error = std / np.sqrt(len(samp_s3))\n",
        "\n",
        "lower_bound_s3 = s3_samp_mean - z_95 * std_error\n",
        "upper_bound_s3 = s3_samp_mean + z_95 * std_error\n",
        "\n",
        "print('confidence intervals 99% upper bound and lower bound is :',round(lower_bound_s3,2),'&', round(upper_bound_s3,2))"
      ],
      "metadata": {
        "colab": {
          "base_uri": "https://localhost:8080/"
        },
        "id": "nNp20MIKAoUY",
        "outputId": "22dfb914-5d7b-4cea-8f3b-edaee9732624"
      },
      "execution_count": 222,
      "outputs": [
        {
          "output_type": "stream",
          "name": "stdout",
          "text": [
            "confidence intervals 99% upper bound and lower bound is : 359.26 & 372.74\n"
          ]
        }
      ]
    },
    {
      "cell_type": "code",
      "source": [
        "#Compare the population means of each sample with the estimated one given the samples\n",
        "import matplotlib.pyplot as plt\n",
        "\n",
        "s1_mean = round(df['S1'].mean(),2)\n",
        "s1_mean = round(df['S1'].mean(),2)\n",
        "print('S1 Mean: ', s1_mean)\n",
        "print('S1 Sample Mean: ',s1_samp_mean)\n",
        "plt.boxplot([s1_mean, s1_samp_mean])\n",
        "plt.show() \n",
        "\n",
        "\n",
        "'''print(s1_mean)\n",
        "print(s1_samp_mean)\n",
        "plt.violinplot([s1_mean, s1_samp_mean])\n",
        "plt.title('Comparison of S1 mean & S1 Sample Mean values')\n",
        "plt.yticks([s1_mean, s1_samp_mean], ['S1 Mean', 'S1 sample'])\n",
        "plt.show() \n",
        "'''"
      ],
      "metadata": {
        "colab": {
          "base_uri": "https://localhost:8080/",
          "height": 337
        },
        "id": "7GuYoWIrCRzZ",
        "outputId": "ee7b5dc1-4dc1-43a4-dc23-639212176288"
      },
      "execution_count": 214,
      "outputs": [
        {
          "output_type": "stream",
          "name": "stdout",
          "text": [
            "S1 Mean:  435.03\n",
            "S1 Sample Mean:  432.48\n"
          ]
        },
        {
          "output_type": "display_data",
          "data": {
            "text/plain": [
              "<Figure size 432x288 with 1 Axes>"
            ],
            "image/png": "[encoded data removed]"
          },
          "metadata": {
            "needs_background": "light"
          }
        },
        {
          "output_type": "execute_result",
          "data": {
            "text/plain": [
              "\"print(s1_mean)\\nprint(s1_samp_mean)\\nplt.violinplot([s1_mean, s1_samp_mean])\\nplt.title('Comparison of S1 mean & S1 Sample Mean values')\\nplt.yticks([s1_mean, s1_samp_mean], ['S1 Mean', 'S1 sample'])\\nplt.show() \\n\""
            ],
            "application/vnd.google.colaboratory.intrinsic+json": {
              "type": "string"
            }
          },
          "metadata": {},
          "execution_count": 214
        }
      ]
    },
    {
      "cell_type": "code",
      "source": [
        "import matplotlib.pyplot as plt\n",
        "s2_mean = round(df['S2'].mean(),2)\n",
        "print('S2 Mean: ', s2_mean)\n",
        "print('S2 Sample Mean: ',s2_samp_mean)\n",
        "plt.boxplot([s2_mean, s2_samp_mean])\n",
        "plt.show() \n"
      ],
      "metadata": {
        "colab": {
          "base_uri": "https://localhost:8080/",
          "height": 301
        },
        "id": "VI2O5YkOOE-l",
        "outputId": "68af92c7-31d7-49f9-ba7b-9a85d7f2002f"
      },
      "execution_count": 213,
      "outputs": [
        {
          "output_type": "stream",
          "name": "stdout",
          "text": [
            "S2 Mean:  360.22\n",
            "S2 Sample Mean:  359.74\n"
          ]
        },
        {
          "output_type": "display_data",
          "data": {
            "text/plain": [
              "<Figure size 432x288 with 1 Axes>"
            ],
            "image/png": "[encoded data removed]"
          },
          "metadata": {
            "needs_background": "light"
          }
        }
      ]
    },
    {
      "cell_type": "code",
      "source": [
        "import matplotlib.pyplot as plt\n",
        "s3_mean = round(df['S3'].mean(),2)\n",
        "print('S3 Mean: ', s3_mean)\n",
        "print('S3 Sample Mean: ',s3_samp_mean)\n",
        "plt.boxplot([s3_mean, s3_samp_mean])\n",
        "plt.show() \n"
      ],
      "metadata": {
        "colab": {
          "base_uri": "https://localhost:8080/",
          "height": 301
        },
        "id": "WPA4jg-7TYey",
        "outputId": "3b82581e-933c-40b6-f58c-9bbbed35462d"
      },
      "execution_count": 215,
      "outputs": [
        {
          "output_type": "stream",
          "name": "stdout",
          "text": [
            "S3 Mean:  366.93\n",
            "S3 Sample Mean:  366.0\n"
          ]
        },
        {
          "output_type": "display_data",
          "data": {
            "text/plain": [
              "<Figure size 432x288 with 1 Axes>"
            ],
            "image/png": "[encoded data removed]"
          },
          "metadata": {
            "needs_background": "light"
          }
        }
      ]
    }
  ]
}