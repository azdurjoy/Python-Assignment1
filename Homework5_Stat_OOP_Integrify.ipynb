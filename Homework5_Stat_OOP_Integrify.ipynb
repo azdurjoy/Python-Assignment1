{
  "nbformat": 4,
  "nbformat_minor": 0,
  "metadata": {
    "colab": {
      "provenance": []
    },
    "kernelspec": {
      "name": "python3",
      "display_name": "Python 3"
    },
    "language_info": {
      "name": "python"
    }
  },
  "cells": [
    {
      "cell_type": "markdown",
      "source": [
        "#Z-test:\n",
        "Suppose we are testing a new model of cell-phone and want to compare its bandwidth to the previous model.\n",
        "\n",
        "**Sample = [4.186, 4.439, 4.781, 4.388, 4.947, 4.853, 4.889, 4.682, 4.428,  4.533, 4.557, 4.761, 4.491, 4.334, 4.83 , 4.268, 4.68 , 4.437, 5.382, 5.111, 5.096, 5.232, 5.033, 5.57 , 4.474, 4.789, 4.725, 4.84 , 4.817, 4.438, 4.754, 4.966, 4.285, 4.482, 4.396, 4.418, 4.514, 5.383, 5.264, 4.309, 5.058, 4.392, 4.788, 4.934, 4.967, 4.554, 4.42 , 5. , 5.126, 5.082, 4.944, 4.658]**\n",
        "\n",
        "*State the null and alternative hypotheses.\n",
        "\n",
        "**Null Hypothesis(Ho):** The bandwidth of the new model of cell-phone is not significantly different from the previous model, i.e., the mean bandwidth of the new model is equal to the mean bandwidth of the previous model.\n",
        "\n",
        "**Alternative Hypothesis(H1):** The bandwidth of the new model of cell-phone is significantly different from the previous model, i.e., the mean bandwidth of the new model is not equal to the mean bandwidth of the previous model.\n",
        "\n",
        "*Use the Z-test to determine whether the new model has a significantly different bandwidth 4.5 GHz from the previous model with a standard deviation of 0.6 GHz, using a significance level of 0.05.\n",
        "\n",
        "*Interpret the results\n",
        "\n",
        "The results suggest that the new model of cell-phone has a significantly different bandwidth compared to the previous model. The sample mean of the new model is significantly greater than the hypothesized population mean of the previous model with a standard deviation of 0.6 GHz."
      ],
      "metadata": {
        "id": "bficSLPnipn3"
      }
    },
    {
      "cell_type": "code",
      "source": [
        "import math\n",
        "from scipy import stats\n",
        "import statistics\n",
        "import numpy as np\n",
        "\n",
        "\n",
        "class ZTest:\n",
        "  def __init__(self, samp_mean, pop_mean, std, samp_size, alpha = 0.05):\n",
        "    self.samp_mean = np.mean(sample) #statistics.mean(sample)\n",
        "    self.pop_mean = pop_mean\n",
        "    self.std = std\n",
        "    self.samp_size = len(sample)\n",
        "    self.alpha = alpha\n",
        "\n",
        "  def Z_score(self):\n",
        "    return (self.samp_mean - self.pop_mean) / (self.std / math.sqrt(self.samp_size))\n",
        "\n",
        "  def significance_test(self):\n",
        "    Z_score = self.Z_score()\n",
        "    crit_val = stats.norm.ppf(self.alpha/2)\n",
        "\n",
        "    if Z_score > crit_val:\n",
        "      return \"Reject null hypothesis\"\n",
        "    else:\n",
        "      return \"Fail to Reject null hypothesis\"\n",
        "\n",
        "\n",
        "sample = [4.186, 4.439, 4.781, 4.388, 4.947, 4.853, 4.889, 4.682, 4.428,  4.533, 4.557, 4.761, 4.491, 4.334, 4.83 , 4.268, 4.68 , 4.437, 5.382, 5.111, 5.096, 5.232, 5.033, 5.57 , 4.474, 4.789, 4.725, 4.84 , 4.817, 4.438, 4.754, 4.966, 4.285, 4.482, 4.396, 4.418, 4.514, 5.383, 5.264, 4.309, 5.058, 4.392, 4.788, 4.934, 4.967, 4.554, 4.42 , 5. , 5.126, 5.082, 4.944, 4.658]\n",
        "std = 0.6\n",
        "pop_mean = 4.5\n",
        "zz_test = ZTest(samp_mean, pop_mean, std, samp_size)\n",
        "zz_test.significance_test()\n",
        "\n"
      ],
      "metadata": {
        "colab": {
          "base_uri": "https://localhost:8080/",
          "height": 36
        },
        "id": "GMiXcuqzgt_u",
        "outputId": "267a47be-785b-465f-c53b-96ae22872c0c"
      },
      "execution_count": 23,
      "outputs": [
        {
          "output_type": "execute_result",
          "data": {
            "text/plain": [
              "'Reject null hypothesis'"
            ],
            "application/vnd.google.colaboratory.intrinsic+json": {
              "type": "string"
            }
          },
          "metadata": {},
          "execution_count": 23
        }
      ]
    },
    {
      "cell_type": "markdown",
      "source": [
        "**Create a class and name it T-test this class includes:**\n"
      ],
      "metadata": {
        "id": "tPoW8Z2RAY8a"
      }
    },
    {
      "cell_type": "code",
      "source": [
        "import numpy as np\n",
        "import math\n",
        "from scipy.stats import t\n",
        "class Ttest:\n",
        "\n",
        "  def One_samp_t_test(sample, hypo_mean):\n",
        "    samp_mean = np.mean(sample)\n",
        "    samp_std = np.std(sample)\n",
        "    n = len(sample)\n",
        "    df = n -1\n",
        "    t_val = (samp_mean - hypo_mean) / (samp_std / math.sqrt(samp_size))\n",
        "    p_val = 2 * t.sf(abs(t_val), df)\n",
        "    return t_val, p_val, df\n",
        "\n",
        "  def Two_samp_t_test(samp_1, samp_2):\n",
        "    samp1_mean = np.mean(samp_1)\n",
        "    samp2_mean = np.mean(samp_2)\n",
        "    s1 = np.std(samp_1)\n",
        "    s2 = np.std(samp_2)\n",
        "    n1 = len(samp_1)\n",
        "    n2 = len(samp_2)\n",
        "    df = n1 + n2 -2\n",
        "    t_val = (samp1_mean - samp2_mean) / np.sqrt((np.square(s1)/n1)+((np.square(s2)/n2)))\n",
        "    p_val = 2 * t.sf(abs(t_val), df)\n",
        "    return t_val, p_val, df\n",
        "\n",
        "  def Paired_t_test(samp_1, samp_2):\n",
        "    d = np.array(samp_1) - np.array(samp_2)\n",
        "    d_bar = np.mean(d)\n",
        "    std_d = np.std(d)\n",
        "    n = len(d)\n",
        "    df = n - 1\n",
        "    t_val = d_bar / std_d / np.sqrt(n)\n",
        "    p_val = 2 * t.sf(abs(t_val), df)\n",
        "    return t_val, p_val, df\n",
        "\n",
        "\n"
      ],
      "metadata": {
        "id": "SScByMtSAV32"
      },
      "execution_count": 27,
      "outputs": []
    },
    {
      "cell_type": "markdown",
      "source": [
        "**One sample T-test:** Suppose we have a new manufacturing process for producing aluminum cans, and we want to test whether the mean weight of the cans produced using this new process is significantly different from the target weight of 15 grams. We randomly sample 30 cans produced using the new process and measure their weights in grams. We obtain the following data: \n",
        "\n",
        "Sample = [14.8, 15.2, 15.1, 15.3, 15.0, 14.9, 15.2, 14.8, 15.1, 15.0, 14.9, 14.8, 15.2, 14.9, 15.0, 14.9, 15.1, 15.3, 15.0, 15.1, 14.8, 15.0, 15.2, 15.1, 15.3, 15.1, 15.0, 14.8, 15.2, 15.0]\n",
        "\n",
        "*State the null and alternative hypotheses.\n",
        "\n",
        "Null hypothesis(H0): The mean weight of the cans produced using the new process is equal to the target weight of 15 grams.\n",
        "\n",
        "Alternative hypothesis(H1): The mean weight of the cans produced using the new process is significantly different from the target weight of 15 grams.\n",
        "\n",
        "*Use the appropriate T-test to determine whether the mean weight of the produced cans is equal to the target weight of 15 grams, using a significance level of 0.05.\n",
        "\n",
        "*Interpret the results\n",
        "\n",
        "Based on the sample data, we accept the null hypothesis that the mean weight of the cans produced using the new process is equal to the target weight of 15 grams. The sample mean weight of the cans produced using the new process is 15.03 grams, which is almost same from the target weight of 15 grams."
      ],
      "metadata": {
        "id": "UN7PUXYL4rTy"
      }
    },
    {
      "cell_type": "code",
      "source": [
        "sample = [14.8, 15.2, 15.1, 15.3, 15.0, 14.9, 15.2, 14.8, 15.1, 15.0, 14.9, 14.8, 15.2, 14.9, 15.0, 14.9, 15.1, 15.3, 15.0, 15.1, 14.8, 15.0, 15.2, 15.1, 15.3, 15.1, 15.0, 14.8, 15.2, 15.0]\n",
        "\n",
        "hypo_mean = 15\n",
        "alpha = 0.05\n",
        "t_val, p_val, df = Ttest.One_samp_t_test(sample, hypo_mean)\n",
        "\n",
        "if p_val > alpha:\n",
        "  print(\"The null hypothesis cannot be rejected at the 5% significance level(Fail to Reject null hypothesis)\") \n",
        "else:\n",
        "  print(\"The null hypothesis can be rejected at the 5% significance level(Reject null hypothesis)\") "
      ],
      "metadata": {
        "colab": {
          "base_uri": "https://localhost:8080/"
        },
        "id": "imDWryTL4ReO",
        "outputId": "f0f3c926-95da-45d9-d341-23752abc9542"
      },
      "execution_count": 28,
      "outputs": [
        {
          "output_type": "stream",
          "name": "stdout",
          "text": [
            "The null hypothesis cannot be rejected at the 5% significance level(Fail to Reject null hypothesis)\n"
          ]
        }
      ]
    },
    {
      "cell_type": "markdown",
      "source": [
        "**Two Sample T-test:** Suppose a food company has developed a new flavor of potato chips and wants to compare it to the current best-selling flavor. The company randomly selects two groups of 20 customers each. The first group is given the new flavor of potato chips, while the second group is given the best-selling flavor. After trying the potato chips, each customer rates the flavor on a scale of 1 to 10. The following are the flavor ratings for the two groups:\n",
        "\n",
        "New flavor = [8, 7, 9, 6, 7, 8, 9, 7, 8, 7, 6, 8, 7, 9, 8, 7, 6, 9, 8, 7]\n",
        "\n",
        "Best selling flavor = [6, 7, 8, 6, 7, 6, 7, 6, 8, 7, 6, 7, 6, 8, 7, 6, 7, 8, 6, 7]\n",
        "\n",
        "*State the null and alternative hypotheses.\n",
        "\n",
        "H0: μ1 = μ2\n",
        "\n",
        "H1: μ1 ≠ μ2\n",
        "\n",
        "Here μ1 is the mean rating of the new flavor, and μ2 is the mean rating of the best-selling flavor.\n",
        "\n",
        "*Use the appropriate T-test to determine whether there is a significant difference between the two groups or not, using a significance level of 0.05.\n",
        "\n",
        "*Interpret the results\n",
        "\n",
        "To test the hypothesis, we can use a two-sample t-test with unequal variances, assuming that the ratings are independent and normally distributed in both groups. We can use the t-test to compare the means of the two groups and determine whether the difference is significant at the 0.05 significance level. Here P value is much more smaller than alpha(0.05), So we can reject the Null hypothesis."
      ],
      "metadata": {
        "id": "l2GAjFR163AF"
      }
    },
    {
      "cell_type": "code",
      "source": [
        "samp_1 = [8, 7, 9, 6, 7, 8, 9, 7, 8, 7, 6, 8, 7, 9, 8, 7, 6, 9, 8, 7] #New flavor \n",
        "samp_2 = [6, 7, 8, 6, 7, 6, 7, 6, 8, 7, 6, 7, 6, 8, 7, 6, 7, 8, 6, 7] #Best selling flavor\n",
        "alpha = 0.05\n",
        "t_val, p_val, df = Ttest.Two_samp_t_test(samp_1, samp_2)\n",
        "if p_val > alpha:\n",
        "  print(\"The null hypothesis cannot be rejected at the 5% significance level(Fail to Reject null hypothesis)\") \n",
        "else:\n",
        "  print(\"The null hypothesis can be rejected at the 5% significance level(Reject null hypothesis)\")\n"
      ],
      "metadata": {
        "colab": {
          "base_uri": "https://localhost:8080/"
        },
        "id": "uGsG5qh_6ya3",
        "outputId": "a2773bdc-48d4-4679-a5da-748b595294c6"
      },
      "execution_count": 102,
      "outputs": [
        {
          "output_type": "stream",
          "name": "stdout",
          "text": [
            "The null hypothesis can be rejected at the 5% significance level(Reject null hypothesis)\n",
            "0.009502268052438971\n"
          ]
        }
      ]
    },
    {
      "cell_type": "markdown",
      "source": [
        "**Paired T-test:** Suppose a company wants to evaluate a new training program for its employees. The company selects 20 employees and measures their productivity before and after the training program. The following are the productivity scores (number of tasks completed per hour) for each employee before and after the training:\n",
        "\n",
        "Before = [15, 18, 12, 10, 17, 16, 12, 14, 19, 18, 11, 13, 16, 17, 19, 14, 16, 13, 15, 12]\n",
        "\n",
        "After = [18, 20, 15, 13, 19, 18, 14, 16, 21, 20, 14, 16, 19, 20, 22, 16, 18, 15, 17, 14]\n",
        "\n",
        "*State the null and alternative hypotheses.\n",
        "\n",
        "H0: µd = 0 (There is no significant difference in productivity scores before and after the training program)\n",
        "\n",
        "Ha: µd > 0 (The mean productivity scores after the training program are significantly higher than the mean productivity scores before the training program)\n",
        "\n",
        "*Use the appropriate T-test to determine whether the new training program has had an effect on employee productivity, with a significance level of 0.05.\n"
      ],
      "metadata": {
        "id": "teAMkZYU9trV"
      }
    },
    {
      "cell_type": "code",
      "source": [
        "samp_1 = [15, 18, 12, 10, 17, 16, 12, 14, 19, 18, 11, 13, 16, 17, 19, 14, 16, 13, 15, 12] #before\n",
        "samp_2 = [18, 20, 15, 13, 19, 18, 14, 16, 21, 20, 14, 16, 19, 20, 22, 16, 18, 15, 17, 14] #after\n",
        "\n",
        "alpha = 0.05\n",
        "t_val, p_val, df = Ttest.Paired_t_test(samp_1, samp_2)\n",
        "\n",
        "if p_val > alpha:\n",
        "  print(\"The null hypothesis can be rejected at the 5% significance level(Reject null hypothesis)\") \n",
        "else:\n",
        "  print(\"The null hypothesis can't be rejected at the 5% significance level(Fail to Reject null hypothesis)\") \n",
        "\n"
      ],
      "metadata": {
        "colab": {
          "base_uri": "https://localhost:8080/"
        },
        "id": "03nSyURJ9ssl",
        "outputId": "9dab7948-d2f0-4080-ff05-4437bd73db76"
      },
      "execution_count": 113,
      "outputs": [
        {
          "output_type": "stream",
          "name": "stdout",
          "text": [
            "The null hypothesis can be rejected at the 5% significance level(Reject null hypothesis)\n",
            "0.2870138021833421\n"
          ]
        }
      ]
    },
    {
      "cell_type": "markdown",
      "source": [
        "**Create a class and name it ANOVA it includes**\n"
      ],
      "metadata": {
        "id": "ytGTFzyeEdNz"
      }
    },
    {
      "cell_type": "code",
      "source": [
        "import numpy as np\n",
        "from scipy.stats import f\n",
        "from scipy.stats import f_oneway\n",
        "class ANOVA:\n",
        "  def __init__(self, samp_1, samp_2, samp_3):\n",
        "    self.samples = [samp_1, samp_2, samp_3]\n",
        "    self.k = len(self.samples)\n",
        "    self.nT = len(samp_1) + len(samp_2) + len(samp_3)\n",
        "    self.total_mean = np.mean(np.concatenate(self.samples))\n",
        "    self.SSwithin = np.sum([np.sum((samp - np.mean(samp))**2) for samp in self.samples])\n",
        "    self.dfwithin = self.nT - self.k\n",
        "    self.MSwithin = self.SSwithin / self.dfwithin\n",
        "    self.samp_means = [np.mean(samp) for samp in self.samples]\n",
        "    self.SSbetween = np.sum([(samp_mean - self.total_mean)**2 * len(samp) for samp_mean, samp in zip(self.samp_means, self.samples)])\n",
        "    self.dfbetween = self.k -1\n",
        "    self.MSbetween = self.SSbetween / self.dfbetween\n",
        "    self.F_stat = self.MSbetween / self.MSwithin\n",
        "\n",
        "  def anova_one_way(self, alpha= 0.05):\n",
        "    p_val = 1 - f.cdf(self.F_stat, self.dfbetween, self.dfwithin)\n",
        "    #return p_val\n",
        "    if p_val > alpha:\n",
        "      print(\"There is no significant difference in productivity scores before and after the training program\")\n",
        "    else:\n",
        "      print(\"There is significant difference in productivity scores before and after the training program\")\n",
        "\n"
      ],
      "metadata": {
        "id": "P7XN2yDQEh3d"
      },
      "execution_count": 49,
      "outputs": []
    },
    {
      "cell_type": "markdown",
      "source": [
        "**One-Way:** Suppose a company has three departments (A, B, and C) and wants to test whether there is a significant difference in salaries between the departments. The company selects 10 employees randomly from each department and records their salaries.\n",
        "\n",
        "Department A = [55, 60, 50, 58, 63, 62, 57, 56, 61, 59]\n",
        "\n",
        "Department B = [50, 52, 48, 49, 55, 53, 51, 54, 47, 50]\n",
        "\n",
        "Department C = [45, 43, 48, 50, 42, 47, 49, 46, 44, 48]\n",
        "\n",
        "\n",
        "*State the null and alternative hypotheses.\n",
        "\n",
        "**Null hypothesis(H0):** There is no significant difference in salaries between the three departments.\n",
        "\n",
        "**Alternative hypothesis(H1):** There is a significant difference in salaries between at least one of the departments.\n",
        "\n",
        "*Use One-Way ANOVA-test to determine whether there is a significant difference in salaries between the three departments.\n",
        "\n",
        "*Interpret the results\n",
        "\n"
      ],
      "metadata": {
        "id": "JZ9B9O2SRnl1"
      }
    },
    {
      "cell_type": "code",
      "source": [
        "samp_1 = [55, 60, 50, 58, 63, 62, 57, 56, 61, 59] #department A\n",
        "samp_2 = [50, 52, 48, 49, 55, 53, 51, 54, 47, 50] #department B\n",
        "samp_3 = [45, 43, 48, 50, 42, 47, 49, 46, 44, 48] #department C\n",
        "\n",
        "anova_test = ANOVA(samp_1, samp_2, samp_3)\n",
        "anova_test.anova_one_way()\n",
        "#print(p_val)"
      ],
      "metadata": {
        "colab": {
          "base_uri": "https://localhost:8080/"
        },
        "id": "WUrP5iFHRiZD",
        "outputId": "0406d996-ada5-4a0b-c18b-e0e8ba646cdd"
      },
      "execution_count": 50,
      "outputs": [
        {
          "output_type": "stream",
          "name": "stdout",
          "text": [
            "There is significant difference in productivity scores before and after the training program\n",
            "0.10071274111238046\n"
          ]
        }
      ]
    },
    {
      "cell_type": "markdown",
      "source": [
        "**Two-Way:** Suppose a company has three departments (A, B, and C) and wants to test whether there is a significant difference in salaries between the departments, while also considering the effect of gender. The company selects 10 employees randomly from each department and records their salaries and gender.\n",
        "\n",
        "Department A:\n",
        "\n",
        "    Male:   [$55k, $60k, $50k, $58k, $63k]\n",
        "\n",
        "    Female: [$62k, $57k, $56k, $61k, $59k]\n",
        "\n",
        "Department B:\n",
        "\n",
        "    Male:   [$50k, $52k, $48k, $49k, $55k]\n",
        "\n",
        "    Female: [$53k, $51k, $54k, $47k, $50k]\n",
        "\n",
        "Department C:\n",
        "\n",
        "    Male:   [$45k, $43k, $48k, $50k, $42k]\n",
        "\n",
        "    Female: $47k, $49k, $46k, $44k, $48k]\n",
        "\n",
        "\n",
        "*State the null and alternative hypotheses.\n",
        "\n",
        "H0: There is no significant difference in salaries between the departments or the effect of gender on salaries is negligible.\n",
        "\n",
        "H1: There is a significant difference in salaries between at least two departments, and/or there is a significant effect of gender on salaries.\n",
        "\n",
        "*Use Two-Way ANOVA-test to determine whether there is a significant difference in salaries between the three departments.\n",
        "\n",
        "*Interpret the results\n",
        "\n",
        "The p-value for the Department factor is less than 0.05, indicating that there is a significant difference in salaries between the departments. The p-value for the Gender factor is also less than 0.05, indicating that there is a significant effect of gender on salary. Finally, the p-value for the interaction between Department and Gender is greater than 0.05, indicating that the effect of gender on salary is not significantly different across departments.\n",
        "In conclusion, we reject the null hypothesis and conclude that there is a significant difference in salaries between at least one department and that the effect of gender on salary is significant. "
      ],
      "metadata": {
        "id": "c5ZcxkWgWbPb"
      }
    },
    {
      "cell_type": "code",
      "source": [
        "import pandas as pd\n",
        "import numpy as np\n",
        "from statsmodels.formula.api import ols\n",
        "from statsmodels.stats.anova import anova_lm\n",
        "\n",
        "\n",
        "df = pd.DataFrame({'Department': np.repeat(['A', 'B', 'C'], 10),\n",
        "                  'Gender': np.tile(np.repeat(['Male', 'Female'], 5), 3),\n",
        "                  'Salary': [55, 60, 50, 58, 63, 62, 57, 56, 61, 59,\n",
        "                             50, 52, 48, 49, 55, 53, 51, 54, 47, 50,\n",
        "                             45, 43, 48, 50, 42, 47, 49, 46, 44, 48]})\n",
        "\n",
        "# Fit ANOVA model\n",
        "model = ols('Salary ~ C(Department) + C(Gender) + C(Department):C(Gender)', data=df).fit()\n",
        "\n",
        "# Perform ANOVA\n",
        "anova_results = anova_lm(model, typ=2)\n",
        "\n",
        "\n",
        "print(anova_results)\n"
      ],
      "metadata": {
        "colab": {
          "base_uri": "https://localhost:8080/"
        },
        "id": "beTytQYstMrG",
        "outputId": "138b31e0-8d5b-417c-cded-277f31271237"
      },
      "execution_count": 16,
      "outputs": [
        {
          "output_type": "stream",
          "name": "stdout",
          "text": [
            "                             sum_sq    df          F        PR(>F)\n",
            "C(Department)            718.466667   2.0  35.104235  7.472321e-08\n",
            "C(Gender)                  8.533333   1.0   0.833876  3.702368e-01\n",
            "C(Department):C(Gender)    3.266667   2.0   0.159609  8.533743e-01\n",
            "Residual                 245.600000  24.0        NaN           NaN\n"
          ]
        }
      ]
    },
    {
      "cell_type": "markdown",
      "source": [
        "**Create a class and name it Chi-Square**"
      ],
      "metadata": {
        "id": "gNI2Dj45w2gt"
      }
    },
    {
      "cell_type": "code",
      "source": [
        "from scipy.stats.contingency import expected_freq\n",
        "from scipy.stats import chi2\n",
        "import numpy as np\n",
        "\n",
        "class Chi_Square:\n",
        "  \n",
        "  def __init__(self, obser_val, expect_val):\n",
        "    self.obser_val = np.array(obser_val)\n",
        "    self.expect_val = expect_val\n",
        "    self.df = len(obser_val) - 1\n",
        "\n",
        "\n",
        "  def cal_chi_sq(self):\n",
        "    expect_freq = self.expect_val * sum(self.obser_val)\n",
        "    chi_sq = sum((self.obser_val - expect_freq)**2 / expect_freq)\n",
        "    return chi_sq\n",
        "\n",
        "\n",
        "  def test_chi_square(self, alpha=0.05):\n",
        "    chi_sq = self.cal_chi_sq()\n",
        "    critical_value = chi2.ppf(1-alpha, self.df)\n",
        "    if chi_sq > critical_value:\n",
        "      print(f\"Reject null hypothesis with critical value {critical_value:.2f} and chi-square value {chi_sq:.2f}\")\n",
        "    else:\n",
        "      print(f\"Fail to reject null hypothesis with critical value {critical_value:.2f} and chi-square value {chi_sq:.2f}\")\n",
        "\n",
        "\n",
        "                      "
      ],
      "metadata": {
        "id": "M9F2sy_HwX6d"
      },
      "execution_count": 43,
      "outputs": []
    },
    {
      "cell_type": "markdown",
      "source": [
        "**Chi-Square:** Suppose we have a hypothesis that a six-sided die is fair, with each side having an equal probability of landing face up. We roll the die 100 times and record the number of times each side appears: \n",
        "\n",
        "\n",
        "Side       Observed Frequency\n",
        "\n",
        "1               18\n",
        "\n",
        "2               20\n",
        "\n",
        "3               16\n",
        "\n",
        "4               22\n",
        "\n",
        "5               14\n",
        "\n",
        "6               10\n",
        "\n",
        "\n",
        "Given that the expected probabilities are equal to 1/6, \n",
        "\n",
        "Use the class CHi-Square to estimate the goodness-of-fit through chi-square test to determine whether the observed frequencies are consistent with the expected frequencies under the null hypothesis of a fair die.\n"
      ],
      "metadata": {
        "id": "LQGKqmQA7tan"
      }
    },
    {
      "cell_type": "code",
      "source": [
        "obser_val = [18, 20, 16, 22, 14, 10]\n",
        "expect_val = 1/6\n",
        "test_chi = Chi_Square(obser_val, expect_val)\n",
        "test_chi.test_chi_square()"
      ],
      "metadata": {
        "colab": {
          "base_uri": "https://localhost:8080/"
        },
        "id": "eXTu7Iow2vtY",
        "outputId": "7876d4ef-9ac9-4aa7-8a1b-15b386a1ae1a"
      },
      "execution_count": 44,
      "outputs": [
        {
          "output_type": "stream",
          "name": "stdout",
          "text": [
            "Fail to reject null hypothesis with critical value 11.07 and chi-square value 5.60\n"
          ]
        }
      ]
    },
    {
      "cell_type": "markdown",
      "source": [
        "# Create a class and name it AB testing that inherits the two sample t-test  from the class T-test "
      ],
      "metadata": {
        "id": "s3v7VX6B-Swb"
      }
    },
    {
      "cell_type": "code",
      "source": [
        "class ABTesting(Ttest):\n",
        "  pass\n",
        "\n",
        "Old_Flavor = [6, 7, 8, 5, 6, 7, 5, 8, 6, 7, 5, 6, 7, 6, 5]\n",
        "New_Flavor = [8, 9, 7, 8, 9, 6, 7, 8, 7, 8, 7, 8, 9, 6, 8]\n",
        "alpha = 0.05\n",
        "ab_test = ABTesting\n",
        "t_val, p_val, df = ab_test.Two_samp_t_test(Old_Flavor, New_Flavor)\n",
        "\n",
        "print(\"t-value:\", t_val)\n",
        "print(\"p-value:\", p_val)\n",
        "\n",
        "if p_val > alpha:\n",
        "  print(\"Accept the Null Hypothesis\")\n",
        "else:\n",
        "  print(\"Reject the Null Hypothesis\")\n"
      ],
      "metadata": {
        "colab": {
          "base_uri": "https://localhost:8080/"
        },
        "id": "LBiDXHzv-Xrl",
        "outputId": "b83fb396-32e1-4fb2-d0d8-66ce09f3909a"
      },
      "execution_count": 55,
      "outputs": [
        {
          "output_type": "stream",
          "name": "stdout",
          "text": [
            "t-value: -3.949862667782214\n",
            "p-value: 0.00048059290103870096\n",
            "Reject the Null Hypothesis\n"
          ]
        }
      ]
    }
  ]
}