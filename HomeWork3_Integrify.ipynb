{
  "nbformat": 4,
  "nbformat_minor": 0,
  "metadata": {
    "colab": {
      "provenance": []
    },
    "kernelspec": {
      "name": "python3",
      "display_name": "Python 3"
    },
    "language_info": {
      "name": "python"
    }
  },
  "cells": [
    {
      "cell_type": "code",
      "source": [
        "import numpy as np\n",
        "import pandas as pd\n",
        "from scipy.stats import t\n",
        "from matplotlib import pyplot\n",
        "from sklearn.linear_model import LinearRegression\n"
      ],
      "metadata": {
        "id": "9bCbmmQWRTW7"
      },
      "execution_count": 2,
      "outputs": []
    },
    {
      "cell_type": "code",
      "execution_count": 3,
      "metadata": {
        "id": "YywCtP2MRGYX"
      },
      "outputs": [],
      "source": [
        "bedrooms = [1,1,1,2,2,2,2,3,3,3,3,3,3,3,4,4,4,5,5,6] \n",
        "prices = [120,133,139,185,148,160,192,205,244,213,236,280,275,273,312,311,304,415,396,488] \n",
        "\n"
      ]
    },
    {
      "cell_type": "code",
      "source": [
        "x = np.array(bedrooms)\n",
        "y = np.array(prices)"
      ],
      "metadata": {
        "id": "8WCA7EdDRrfa"
      },
      "execution_count": 4,
      "outputs": []
    },
    {
      "cell_type": "markdown",
      "source": [
        "Extract a random sample of size 10\n"
      ],
      "metadata": {
        "id": "HtZN302pUPfz"
      }
    },
    {
      "cell_type": "code",
      "source": [
        "x_samp = np.random.choice(x, size = 10)\n",
        "x_samp"
      ],
      "metadata": {
        "colab": {
          "base_uri": "https://localhost:8080/"
        },
        "id": "MaFmHXY7SEIh",
        "outputId": "24469197-43df-4d20-c724-f5c2425ad7e2"
      },
      "execution_count": 5,
      "outputs": [
        {
          "output_type": "execute_result",
          "data": {
            "text/plain": [
              "array([2, 2, 1, 3, 3, 3, 2, 4, 3, 3])"
            ]
          },
          "metadata": {},
          "execution_count": 5
        }
      ]
    },
    {
      "cell_type": "code",
      "source": [
        "y_samp = np.random.choice(y, size = 10)\n",
        "y_samp"
      ],
      "metadata": {
        "colab": {
          "base_uri": "https://localhost:8080/"
        },
        "id": "-yGYQkHXTASC",
        "outputId": "bd5cbd20-f59e-48f9-a253-c6d127ec7973"
      },
      "execution_count": 6,
      "outputs": [
        {
          "output_type": "execute_result",
          "data": {
            "text/plain": [
              "array([213, 304, 160, 415, 311, 192, 213, 205, 213, 133])"
            ]
          },
          "metadata": {},
          "execution_count": 6
        }
      ]
    },
    {
      "cell_type": "markdown",
      "source": [
        "Compute the mean and standard deviation of the sample\n"
      ],
      "metadata": {
        "id": "QHQgzNufUTNE"
      }
    },
    {
      "cell_type": "code",
      "source": [
        "x_y_samp_mean = np.mean([x_samp, y_samp], axis=1)\n",
        "x_y_samp_mean"
      ],
      "metadata": {
        "colab": {
          "base_uri": "https://localhost:8080/"
        },
        "id": "HmMbC1pcTVUI",
        "outputId": "cc7105d6-2ff3-4b7c-bdac-76b9476ade16"
      },
      "execution_count": 7,
      "outputs": [
        {
          "output_type": "execute_result",
          "data": {
            "text/plain": [
              "array([  2.6, 235.9])"
            ]
          },
          "metadata": {},
          "execution_count": 7
        }
      ]
    },
    {
      "cell_type": "code",
      "source": [
        "x_y_samp_std = np.std([x_samp, y_samp], axis = 1)\n",
        "x_y_samp_std"
      ],
      "metadata": {
        "colab": {
          "base_uri": "https://localhost:8080/"
        },
        "id": "MQL8cuHUUbkv",
        "outputId": "92f15522-44ea-4a12-d1d2-af90fb7e6d0a"
      },
      "execution_count": 8,
      "outputs": [
        {
          "output_type": "execute_result",
          "data": {
            "text/plain": [
              "array([ 0.8       , 79.47257389])"
            ]
          },
          "metadata": {},
          "execution_count": 8
        }
      ]
    },
    {
      "cell_type": "markdown",
      "source": [
        "Compute the the mean of the population\n"
      ],
      "metadata": {
        "id": "FMZZLx6lUui2"
      }
    },
    {
      "cell_type": "code",
      "source": [
        "x_y_mean = np.mean([x,y], axis = 1)\n",
        "x_y_mean"
      ],
      "metadata": {
        "colab": {
          "base_uri": "https://localhost:8080/"
        },
        "id": "V4MPUmdwUqGt",
        "outputId": "4b00c37f-78cb-4234-c535-41d7f3c6b208"
      },
      "execution_count": 9,
      "outputs": [
        {
          "output_type": "execute_result",
          "data": {
            "text/plain": [
              "array([  3.  , 251.45])"
            ]
          },
          "metadata": {},
          "execution_count": 9
        }
      ]
    },
    {
      "cell_type": "markdown",
      "source": [
        "Computer the confidence interval of 95% using the sample \n"
      ],
      "metadata": {
        "id": "icUpuNpTW29X"
      }
    },
    {
      "cell_type": "code",
      "source": [
        "z_95 = 1.96\n",
        "x_samp_mean = np.mean(x_samp)\n",
        "x_std = np.std(x_samp)\n",
        "std_error = x_std / np.sqrt(len(x_samp))\n",
        "\n",
        "lower_bound_x = x_samp_mean - z_95 * std_error\n",
        "upper_bound_x = x_samp_mean + z_95 * std_error\n",
        "\n",
        "print('confidence intervals 95% upper bound and lower bound is :',round(lower_bound_x,2),'&', round(upper_bound_x,2))\n"
      ],
      "metadata": {
        "colab": {
          "base_uri": "https://localhost:8080/"
        },
        "id": "D-gA7w2FU6e5",
        "outputId": "659ae28a-1a84-4376-ef3b-5d7dee68e1b4"
      },
      "execution_count": 11,
      "outputs": [
        {
          "output_type": "stream",
          "name": "stdout",
          "text": [
            "confidence intervals 95% upper bound and lower bound is : 2.1 & 3.1\n"
          ]
        }
      ]
    },
    {
      "cell_type": "code",
      "source": [
        "z_95 = 1.96\n",
        "y_samp_mean = np.mean(y_samp)\n",
        "y_std = np.std(y_samp)\n",
        "std_error = y_std / np.sqrt(len(y_samp))\n",
        "\n",
        "lower_bound_y = y_samp_mean - z_95 * std_error\n",
        "upper_bound_y = y_samp_mean + z_95 * std_error\n",
        "\n",
        "print('confidence intervals 95% upper bound and lower bound is :',round(lower_bound_y,2),'&', round(upper_bound_y,2))"
      ],
      "metadata": {
        "colab": {
          "base_uri": "https://localhost:8080/"
        },
        "id": "WmApBOeTXjKB",
        "outputId": "ed3eef3c-0fea-4715-b680-453ae26a8622"
      },
      "execution_count": 12,
      "outputs": [
        {
          "output_type": "stream",
          "name": "stdout",
          "text": [
            "confidence intervals 95% upper bound and lower bound is : 186.64 & 285.16\n"
          ]
        }
      ]
    },
    {
      "cell_type": "code",
      "source": [
        "#Compute the covariance and the correlation between the two variables\n",
        "x_y_cov = np.cov([x,y])\n",
        "x_y_cov"
      ],
      "metadata": {
        "colab": {
          "base_uri": "https://localhost:8080/"
        },
        "id": "4wIewuB4YBgL",
        "outputId": "280d2fb0-fb64-4615-f155-f957461ec624"
      },
      "execution_count": 13,
      "outputs": [
        {
          "output_type": "execute_result",
          "data": {
            "text/plain": [
              "array([[1.89473684e+00, 1.33894737e+02],\n",
              "       [1.33894737e+02, 1.00161553e+04]])"
            ]
          },
          "metadata": {},
          "execution_count": 13
        }
      ]
    },
    {
      "cell_type": "markdown",
      "source": [
        "**The 2x2 array returned by np.cov(a,b) has elements equal to**\n",
        "\n",
        "cov(a,a)  cov(a,b)\n",
        "\n",
        "cov(a,b)  cov(b,b) "
      ],
      "metadata": {
        "id": "BqGEfjHafd41"
      }
    },
    {
      "cell_type": "code",
      "source": [
        "#Build a regression model and estimate the regression parameters (slope and intercept).\n",
        "#f(bedrooms) = prices =  slope * bedrooms + intercept\n",
        "#f(x) = a * x + b\n",
        "x = np.array(bedrooms).reshape(-1, 1)\n",
        "\n",
        "model = LinearRegression().fit(x,y)\n",
        "r_sq = model.score(x, y)\n",
        "print(f'Coefficient of determintaion: {round(r_sq, 4)}')\n",
        "print(f'Intercept: {round(model.intercept_, 4)}')\n",
        "print(f'Slope: {round(model.coef_[0], 4)}')\n"
      ],
      "metadata": {
        "colab": {
          "base_uri": "https://localhost:8080/"
        },
        "id": "wsqQfO9ffq8g",
        "outputId": "f88d24a7-1cd4-4a7f-bd03-6f97167951f6"
      },
      "execution_count": 14,
      "outputs": [
        {
          "output_type": "stream",
          "name": "stdout",
          "text": [
            "Coefficient of determintaion: 0.9447\n",
            "Intercept: 39.45\n",
            "Slope: 70.6667\n"
          ]
        }
      ]
    },
    {
      "cell_type": "code",
      "source": [
        "#Predict the house price for a house with 7 rooms\n",
        "y_pred = model.predict([[7]]).round(4) #x=7\n",
        "print(f'7 bedroom house price will be: {y_pred}')\n",
        "\n",
        "y_predic = model.predict(x).round(4)\n",
        "print(y_predic)"
      ],
      "metadata": {
        "colab": {
          "base_uri": "https://localhost:8080/"
        },
        "id": "DcsJXlEqj02o",
        "outputId": "bfcf5f73-f0e0-4ce6-9751-eeac81d3715a"
      },
      "execution_count": 49,
      "outputs": [
        {
          "output_type": "stream",
          "name": "stdout",
          "text": [
            "7 bedroom house price will be: [534.1167]\n",
            "[110.1167 110.1167 110.1167 180.7833 180.7833 180.7833 180.7833 251.45\n",
            " 251.45   251.45   251.45   251.45   251.45   251.45   322.1167 322.1167\n",
            " 322.1167 392.7833 392.7833 463.45  ]\n"
          ]
        }
      ]
    },
    {
      "cell_type": "markdown",
      "source": [
        "Estimate the upper bound and the lower bounds of the prediction interval of a house with 7 rooms\n",
        "\n",
        "Alpha = 0.1\n",
        "\n",
        "N = 20\n",
        "\n",
        "Df = N-2\n",
        "\n",
        "\n",
        "---\n",
        "\n"
      ],
      "metadata": {
        "id": "fNP6lPQYsa46"
      }
    },
    {
      "cell_type": "code",
      "source": [
        "n = len(y)\n",
        "alpha = 0.1\n",
        "df = n-2\n",
        "dof = n-2\n",
        "x_new = 3\n",
        "y_hat = model.predict(np.array([[x_new]]))\n",
        "re = np.square(y - y_hat).sum()\n",
        "se = np.sqrt(np.square(y - y_hat).sum()/(n-2))\n",
        "se *= (1+(1/n) + np.square(x_new - x.mean())/(np.square(x-x.mean()).mean()))\n",
        "t_value = t.ppf(1-alpha/2, df=df)\n",
        "interval = t_value * se \n",
        "LCL = y_hat - t_value * se\n",
        "UCL = y_hat + t_value * se\n",
        "\n",
        "print(f\"LCL:{LCL}\")\n",
        "print(f\"LCL:{UCL}\")\n",
        "print('The prediction %f with 95 confidence lies between [%f, %f]'%(y_hat, LCL, UCL))\n",
        "\n",
        "pyplot.scatter(x, y)\n",
        "pyplot.plot(x, y_predic, color = 'red')\n",
        "pyplot.errorbar(x_new, y_hat, yerr = interval, color = 'blue', fmt = 'o')\n",
        "pyplot.xlabel('Bedrooms')\n",
        "pyplot.ylabel('Prices')\n",
        "pyplot.title('Bedrooms and Prices prediction with interval')\n",
        "pyplot.grid(True)\n",
        "pyplot.show()\n"
      ],
      "metadata": {
        "colab": {
          "base_uri": "https://localhost:8080/",
          "height": 525
        },
        "id": "GMo-fUc6__LA",
        "outputId": "1fef9d02-3300-4a40-c08f-9fc4d9b6eb64"
      },
      "execution_count": 53,
      "outputs": [
        {
          "output_type": "stream",
          "name": "stdout",
          "text": [
            "LCL:[64.23295133]\n",
            "LCL:[438.66704867]\n",
            "The prediction 251.450000 with 95 confidence lies between [64.232951, 438.667049]\n"
          ]
        },
        {
          "output_type": "display_data",
          "data": {
            "text/plain": [
              "<Figure size 640x480 with 1 Axes>"
            ],
            "image/png": "[encoded data removed]"
          },
          "metadata": {}
        }
      ]
    },
    {
      "cell_type": "code",
      "source": [
        "def prediction_interval(new_value, x, y, y_predic, alpha= 0.05, df = 2):\n",
        "  n = len(x)\n",
        "  re = np.sqrt(np.square(y - y_hat).sum()/(n-2))\n",
        "  se = re * (1+(1/n) + np.square(x_new - x.mean())/(np.square(x-x.mean()).mean()))\n",
        "  t_value = t.ppf(1-alpha/2, df = df)\n",
        "  intrval = t_value * se\n",
        "  pred_val = model.predict(np.array([[new_value]]))[0].round(4)\n",
        "  LCL = round(pred_val - interval, 4)\n",
        "  UCL = round(pred_val + interval, 4)\n",
        "  return pred_val, LCL, UCL\n",
        "\n",
        "pred_val, LCL, UCL = prediction_interval(5, x, y, y_pred)\n",
        "\n",
        "print('The prediction %f with %d confidence lies between [%f, %f]'%(y_pred, (1-alpha/2) * 100, LCL, UCL))"
      ],
      "metadata": {
        "colab": {
          "base_uri": "https://localhost:8080/"
        },
        "id": "fsrxASFt8qER",
        "outputId": "9006c7f8-b13e-447a-8d41-f1c6c77bd8b6"
      },
      "execution_count": 61,
      "outputs": [
        {
          "output_type": "stream",
          "name": "stdout",
          "text": [
            "The prediction 534.116700 with 95 confidence lies between [205.566300, 580.000300]\n"
          ]
        }
      ]
    }
  ]
}